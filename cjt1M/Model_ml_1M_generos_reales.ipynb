{
 "cells": [
  {
   "cell_type": "markdown",
   "id": "saved-dispute",
   "metadata": {},
   "source": [
    "# Modelo GEN 1M\n",
    "\n",
    "Las peliculas se codifican mediante su vector de generos de partida, de tal forma que solo podrá tener ceros y unos. \n",
    "lo que dotará al sistema de poca flexibilidad al hacer el producto escalar. \n",
    "\n",
    "En este caso, Los usuarios se codificaran por one hot y las peliculas se codificarán mediante el vector de generos a los que pertenecen\n",
    "\n",
    "Se preprocesa el cojunto de datos para agilizar las ejecuciones. \n",
    "\n",
    "#### Resultados en el modelo 1M\n",
    "  \n",
    "    rectificado error en preprocesado \n",
    "- Test                         loss:   2.4554\n",
    "\n",
    "- Test             MAE sobre scores: 1.2680\n",
    "\n"
   ]
  },
  {
   "cell_type": "code",
   "execution_count": 4,
   "id": "incorporate-banks",
   "metadata": {},
   "outputs": [],
   "source": [
    "import pickle\n",
    "import pandas as pd\n",
    "from math import pi\n",
    "import numpy as np\n",
    "from sklearn.model_selection import train_test_split\n",
    "import matplotlib.pyplot as plt\n",
    "import tensorflow as tf\n",
    "\n",
    " \n",
    "#garantizamos mismos resultados entre ejecuciones\n",
    "import os\n",
    "os.environ['PYTHONHASHSEED']='0'\n",
    "rs = 1234  # Semilla aleatoria\n",
    "np.random.seed(rs)\n",
    "tf.random.set_seed(rs)"
   ]
  },
  {
   "cell_type": "code",
   "execution_count": 5,
   "id": "alert-shelf",
   "metadata": {},
   "outputs": [],
   "source": [
    "def save_to_pickle(name, item):\n",
    "    filehandler = open(name+\".pkl\", \"wb\")\n",
    "    pickle.dump(item, filehandler)\n",
    "    filehandler.close()\n",
    "\n",
    "\n",
    "def plot_metric(history, metric, valida):\n",
    "    train_metrics = history.history[metric]\n",
    "    # if valida:\n",
    "    #    val_metrics = history.history['val_'+metric]\n",
    "    epochs = range(1, len(train_metrics) + 1)\n",
    "    plt.plot(epochs, train_metrics)\n",
    "    if valida:\n",
    "        val_metrics = history.history['val_' + metric]\n",
    "        plt.plot(epochs, val_metrics)\n",
    "        plt.title('Training and validation ' + metric)\n",
    "    else:\n",
    "        plt.title('Training ' + metric)\n",
    "    plt.xlabel(\"Epochs\")\n",
    "    plt.ylabel(metric)\n",
    "    if valida:\n",
    "        plt.legend([\"train_\"+metric, 'val_' + metric])\n",
    "    plt.show()"
   ]
  },
  {
   "cell_type": "code",
   "execution_count": 6,
   "id": "limited-filing",
   "metadata": {},
   "outputs": [],
   "source": [
    "def crear_modelo(K, LR, num_users, num_pelis, dim_users, dim_pelis, peso_score):\n",
    "    user_input = tf.keras.layers.Input(shape=(dim_users,), name=\"input_usr\")  # Variable-length sequence of ints\n",
    "    usuarios_emb = tf.keras.layers.Embedding(input_dim=num_users, output_dim=K, name=\"embedding_usr\")(user_input)\n",
    "    usuarios = tf.keras.layers.Flatten(name=\"flatten_usr\")(usuarios_emb)  # para pasar de (?,1,K) a (?,K)\n",
    "    usr_emb_genr = tf.keras.layers.Dense(num_genres, activation='relu', name=\"usr_dot\")(usuarios)  # (?, num_genres)\n",
    "\n",
    "    pelis_input = tf.keras.layers.Input(shape=(dim_pelis,), name=\"input_pelis\")  # Variable-length sequence of ints\n",
    "    # pelis_emb = tf.keras.layers.Embedding(input_dim=num_pelis, output_dim=K, name=\"embedding_pelis\")(pelis_input)\n",
    "    # pelis = tf.keras.layers.Flatten(name=\"flatten_pelis\")(pelis_emb)  # para pasar de (?,1,K) a (?,K)\n",
    "    # genre_pred = tf.keras.layers.Dense(num_genres, activation='sigmoid', name=\"genres\")(pelis)  # (?, num_genres)\n",
    "\n",
    "    score_pred = tf.keras.layers.Dot(axes=1, name=\"scores\")([usr_emb_genr, pelis_input])\n",
    "\n",
    "    model = tf.keras.Model(\n",
    "        inputs=[user_input, pelis_input],\n",
    "        outputs=[score_pred],\n",
    "    )\n",
    "\n",
    "    model.compile(\n",
    "        optimizer=tf.keras.optimizers.Adam(LR),\n",
    "        # optimizer=keras.optimizers.RMSprop(1e-3),\n",
    "        loss=tf.keras.losses.MeanSquaredError(),\n",
    "        # loss_weights=[peso_score, 1 - peso_score],\n",
    "        metrics=['mean_absolute_error'],  # tf.keras.metrics.BinaryAccuracy()],\n",
    "    )\n",
    "\n",
    "    model_usr = tf.keras.Model(\n",
    "        inputs=[user_input],\n",
    "        outputs=[usr_emb_genr],\n",
    "    )\n",
    "\n",
    "    '''model2.summary()\n",
    "    output_array2 = model2.predict([valoraciones.user_id, valoraciones.item_id])\n",
    "    print(output_array2.shape)'''\n",
    "\n",
    "    return model, model_usr"
   ]
  },
  {
   "cell_type": "code",
   "execution_count": 7,
   "id": "beginning-philip",
   "metadata": {},
   "outputs": [],
   "source": [
    "def entrenar(VALIDATION, K, epochs, batch_size, learning_rate, peso_score, num_users, num_pelis, dim_input_users,\n",
    "             dim_input_pelis, X_train, X_train_dev, X_test, y_train, y_train_dev, y_test):\n",
    "    # SE CREA EL MODELO\n",
    "    model, mod_usr = crear_modelo(K, learning_rate, num_users, num_pelis, dim_input_users, dim_input_pelis, peso_score)\n",
    "\n",
    "    # ENTRENAMOS EL MODELO Y EVALUAMOS EN EL CONJUNTO DE TEST\n",
    "    if VALIDATION:\n",
    "        # DECLARAMOS UN OBJETO EARLY STOPPING PARA DECIDIR LA MEJOR EPOCH\n",
    "        early_stop = tf.keras.callbacks.EarlyStopping(monitor='val_loss', patience=20)\n",
    "        csv_logger = tf.keras.callbacks.CSVLogger(\"model/model_history_generos_reales_log.csv\", append=True)\n",
    "        checkpoint = tf.keras.callbacks.ModelCheckpoint('model/model_genREal25_{epoch:06d}.h5', save_best_only=True)\n",
    "        \n",
    "        history = model.fit(x=[X_train.user_id, X_train[col_items]], y=[y_train],\n",
    "                            validation_data=([X_dev.user_id, X_dev[col_items]], [y_dev]),\n",
    "                            epochs=epochs, batch_size=batch_size, callbacks=[early_stop, checkpoint,csv_logger])\n",
    "        print('Mejor epoch:', early_stop.stopped_epoch)\n",
    "        media_en_train = y_train.mean()\n",
    "    else:\n",
    "        if epochs == 0:\n",
    "            epochs = 1000\n",
    "        checkpoint = tf.keras.callbacks.ModelCheckpoint('model/model_history_generos_reales2_log.csv')\n",
    "        csv_logger = tf.keras.callbacks.CSVLogger(\"model/model_history_generos_reales2_log.csv\", append=True)\n",
    "        history = model.fit(x=[X_train_dev.user_id, X_train_dev[col_items]],\n",
    "                            y=[y_train_dev],\n",
    "                            epochs=epochs, batch_size=batch_size, callbacks=[checkpoint])\n",
    "        media_en_train = y_train_dev.mean()\n",
    "        usr_emb_g = mod_usr.predict([X_test.user_id])\n",
    "\n",
    "    losses = model.evaluate([X_test.user_id, X_test[col_items]], [y_test])\n",
    "    print('\\t*-* Test                         loss: %.4f' % losses[0])\n",
    "    print('\\t*-* Test             MAE sobre scores: %.4f' % losses[1])\n",
    "\n",
    "    prediction = model.predict([X_test.user_id, X_test[col_items]])\n",
    "    print('Test MAE    modelo: %.4f' % (sum(abs(y_test - prediction.flatten())) / y_test.shape[0]))\n",
    "    print('Test MAE Sys-Media: %.4f' % (sum(abs(y_test - media_en_train)) / y_test.shape[0]))\n",
    "\n",
    "    # GRÁFICOS\n",
    "    plot_metric(history, 'loss', valida=VALIDATION)\n",
    "    plot_metric(history, 'mean_absolute_error', valida=VALIDATION)\n",
    "\n",
    "    if VALIDATION:\n",
    "        return model, early_stop.stopped_epoch\n",
    "    else:\n",
    "        return model, prediction, usr_emb_g\n",
    "\n",
    "\n"
   ]
  },
  {
   "cell_type": "code",
   "execution_count": 8,
   "id": "human-forest",
   "metadata": {},
   "outputs": [
    {
     "name": "stdout",
     "output_type": "stream",
     "text": [
      "num_genres 18\n",
      "num_users  6041\n",
      "num_pelis  3953\n"
     ]
    }
   ],
   "source": [
    "# ---------------------------------------------------------------------------------------------------------------------\n",
    "# ---------------------------------------------------------------------------------------------------------------------\n",
    "# MAIN\n",
    "# ---------------------------------------------------------------------------------------------------------------------\n",
    "\n",
    "PATH = '/Users/antonio/OneDrive - farmasturias.org/DOCTORADO/paper_generos_peliculas/XAI_movies/cjtos/ml-1M/'\n",
    "\n",
    "#si COF esta ruta\n",
    "#PATH = 'c:/Users/antonio.cof/OneDrive - farmasturias.org/DOCTORADO/paper_generos_peliculas/XAI_movies/cjtos/ml-1M/'\n",
    "\n",
    "# Ponemos las dos variables como parametro fijo para agilizar las ejecuciones para \n",
    "num_users=6041    #tras calcularlo \n",
    "num_pelis=3953\n",
    "num_genres=18 \n",
    "print('num_genres',num_genres)\n",
    "print('num_users ',num_users)\n",
    "print('num_pelis ',num_pelis)"
   ]
  },
  {
   "cell_type": "code",
   "execution_count": 10,
   "id": "recent-belle",
   "metadata": {},
   "outputs": [],
   "source": [
    "### CARGO LOS DATOS PREPROCESADOS EN SQL \n",
    "cjto=pd.read_csv(PATH+'movies_users_rating_onehot.csv',index_col=False)\n",
    "cjto=cjto.rename(columns={'id_user':'user_id'})\n",
    "X=cjto.drop(['rating'],axis='columns')\n",
    "y = cjto['rating'].copy()\n",
    "col_items=cjto.columns.drop(['user_id','item_id', 'rating'])\n",
    "TEST = 0.10\n",
    "DEV = 0.10"
   ]
  },
  {
   "cell_type": "code",
   "execution_count": 11,
   "id": "a28d8e25",
   "metadata": {},
   "outputs": [
    {
     "name": "stdout",
     "output_type": "stream",
     "text": [
      "% test = 0.1 \n",
      "% dev = 0.1\n",
      "X_train: (810169, 20)\n",
      "X_dev  : (90019, 20)\n",
      "X_test : (100021, 20)\n",
      "y_train: (810169,)\n",
      "y_dev  : (90019,)\n",
      "y_test : (100021,)\n"
     ]
    }
   ],
   "source": [
    "# TRAIN/DEV/TEST SPLIT (sin estratificar para prevenir errores)\n",
    "X_train_dev, X_test, y_train_dev, y_test = train_test_split(X, y, stratify=None, test_size=TEST, random_state=2032)\n",
    "X_train, X_dev, y_train, y_dev = train_test_split(X_train_dev, y_train_dev, stratify=None,\n",
    "                                                  test_size=DEV, random_state=2032)\n",
    "\n",
    "print(\"% test =\", TEST, \"\\n% dev =\", DEV)\n",
    "print(\"X_train:\", X_train.shape)\n",
    "print(\"X_dev  :\", X_dev.shape)\n",
    "print(\"X_test :\", X_test.shape)\n",
    "print(\"y_train:\", y_train.shape)\n",
    "print(\"y_dev  :\", y_dev.shape)\n",
    "print(\"y_test :\", y_test.shape)"
   ]
  },
  {
   "cell_type": "code",
   "execution_count": 17,
   "id": "752d5f73",
   "metadata": {},
   "outputs": [],
   "source": [
    "# ---------------------------------------------------------------------------------------------------------------------\n",
    "# ---------------------------------------------------------------------------------------------------------------------\n",
    "# ENTRENAMIENTO\n",
    "# ---------------------------------------------------------------------------------------------------------------------\n",
    "K = 32  # 32\n",
    "learning_rate = 1e-3\n",
    "dim_input_users = 1  # el entero a partir del cual se calcula el embedding\n",
    "dim_input_pelis = 18  # el vector con los géneros de la película \n",
    "tam_batch = 512\n",
    "max_epochs = 1000\n",
    "peso_score = 0.5  # NO SE APLICA"
   ]
  },
  {
   "cell_type": "code",
   "execution_count": 18,
   "id": "russian-england",
   "metadata": {
    "scrolled": true
   },
   "outputs": [
    {
     "name": "stdout",
     "output_type": "stream",
     "text": [
      "Epoch 1/1000\n",
      "1583/1583 [==============================] - 2s 1ms/step - loss: 6.5062 - mean_absolute_error: 2.1501 - val_loss: 2.5030 - val_mean_absolute_error: 1.2940\n",
      "Epoch 2/1000\n",
      "1583/1583 [==============================] - 2s 1ms/step - loss: 2.4350 - mean_absolute_error: 1.2742 - val_loss: 2.4445 - val_mean_absolute_error: 1.2763\n",
      "Epoch 3/1000\n",
      "1583/1583 [==============================] - 2s 1ms/step - loss: 2.3437 - mean_absolute_error: 1.2484 - val_loss: 2.4166 - val_mean_absolute_error: 1.2655\n",
      "Epoch 4/1000\n",
      "1583/1583 [==============================] - 2s 1ms/step - loss: 2.2764 - mean_absolute_error: 1.2282 - val_loss: 2.4106 - val_mean_absolute_error: 1.2642\n",
      "Epoch 5/1000\n",
      "1583/1583 [==============================] - 2s 1ms/step - loss: 2.2222 - mean_absolute_error: 1.2122 - val_loss: 2.4095 - val_mean_absolute_error: 1.2623\n",
      "Epoch 6/1000\n",
      "1583/1583 [==============================] - 2s 1ms/step - loss: 2.1897 - mean_absolute_error: 1.2023 - val_loss: 2.4189 - val_mean_absolute_error: 1.2641\n",
      "Epoch 7/1000\n",
      "1583/1583 [==============================] - 2s 1ms/step - loss: 2.1734 - mean_absolute_error: 1.1964 - val_loss: 2.4228 - val_mean_absolute_error: 1.2640\n",
      "Epoch 8/1000\n",
      "1583/1583 [==============================] - 2s 1ms/step - loss: 2.1475 - mean_absolute_error: 1.1884 - val_loss: 2.4315 - val_mean_absolute_error: 1.2664\n",
      "Epoch 9/1000\n",
      "1583/1583 [==============================] - 2s 1ms/step - loss: 2.1374 - mean_absolute_error: 1.1842 - val_loss: 2.4389 - val_mean_absolute_error: 1.2678\n",
      "Epoch 10/1000\n",
      "1583/1583 [==============================] - 2s 1ms/step - loss: 2.1246 - mean_absolute_error: 1.1802 - val_loss: 2.4441 - val_mean_absolute_error: 1.2690\n",
      "Epoch 11/1000\n",
      "1583/1583 [==============================] - 2s 1ms/step - loss: 2.1223 - mean_absolute_error: 1.1790 - val_loss: 2.4494 - val_mean_absolute_error: 1.2706\n",
      "Epoch 12/1000\n",
      "1583/1583 [==============================] - 2s 1ms/step - loss: 2.1016 - mean_absolute_error: 1.1726 - val_loss: 2.4555 - val_mean_absolute_error: 1.2715\n",
      "Epoch 13/1000\n",
      "1583/1583 [==============================] - 2s 1ms/step - loss: 2.0994 - mean_absolute_error: 1.1711 - val_loss: 2.4597 - val_mean_absolute_error: 1.2712\n",
      "Epoch 14/1000\n",
      "1583/1583 [==============================] - 2s 1ms/step - loss: 2.0954 - mean_absolute_error: 1.1704 - val_loss: 2.4610 - val_mean_absolute_error: 1.2728\n",
      "Epoch 15/1000\n",
      "1583/1583 [==============================] - 2s 1ms/step - loss: 2.0925 - mean_absolute_error: 1.1688 - val_loss: 2.4658 - val_mean_absolute_error: 1.2725\n",
      "Epoch 16/1000\n",
      "1583/1583 [==============================] - 2s 1ms/step - loss: 2.0936 - mean_absolute_error: 1.1689 - val_loss: 2.4697 - val_mean_absolute_error: 1.2737\n",
      "Epoch 17/1000\n",
      "1583/1583 [==============================] - 2s 1ms/step - loss: 2.0911 - mean_absolute_error: 1.1680 - val_loss: 2.4709 - val_mean_absolute_error: 1.2735\n",
      "Epoch 18/1000\n",
      "1583/1583 [==============================] - 2s 1ms/step - loss: 2.0866 - mean_absolute_error: 1.1658 - val_loss: 2.4731 - val_mean_absolute_error: 1.2746\n",
      "Epoch 19/1000\n",
      "1583/1583 [==============================] - 2s 1ms/step - loss: 2.0856 - mean_absolute_error: 1.1663 - val_loss: 2.4740 - val_mean_absolute_error: 1.2749\n",
      "Epoch 20/1000\n",
      "1583/1583 [==============================] - 2s 1ms/step - loss: 2.0871 - mean_absolute_error: 1.1664 - val_loss: 2.4766 - val_mean_absolute_error: 1.2747\n",
      "Epoch 21/1000\n",
      "1583/1583 [==============================] - 2s 1ms/step - loss: 2.0916 - mean_absolute_error: 1.1669 - val_loss: 2.4779 - val_mean_absolute_error: 1.2747\n",
      "Epoch 22/1000\n",
      "1583/1583 [==============================] - 2s 1ms/step - loss: 2.0835 - mean_absolute_error: 1.1645 - val_loss: 2.4794 - val_mean_absolute_error: 1.2751\n",
      "Epoch 23/1000\n",
      "1583/1583 [==============================] - 2s 1ms/step - loss: 2.0787 - mean_absolute_error: 1.1637 - val_loss: 2.4785 - val_mean_absolute_error: 1.2753\n",
      "Epoch 24/1000\n",
      "1583/1583 [==============================] - 2s 1ms/step - loss: 2.0855 - mean_absolute_error: 1.1641 - val_loss: 2.4825 - val_mean_absolute_error: 1.2760\n",
      "Epoch 25/1000\n",
      "1583/1583 [==============================] - 2s 1ms/step - loss: 2.0793 - mean_absolute_error: 1.1626 - val_loss: 2.4804 - val_mean_absolute_error: 1.2747\n",
      "Mejor epoch: 24\n",
      "3126/3126 [==============================] - 1s 286us/step - loss: 2.4728 - mean_absolute_error: 1.2710\n",
      "\t*-* Test                         loss: 2.4728\n",
      "\t*-* Test             MAE sobre scores: 1.2710\n",
      "Test MAE    modelo: 1.2710\n",
      "Test MAE Sys-Media: 0.9324\n"
     ]
    },
    {
     "data": {
      "image/png": "[encoded data removed]",
      "text/plain": [
       "<Figure size 432x288 with 1 Axes>"
      ]
     },
     "metadata": {
      "needs_background": "light"
     },
     "output_type": "display_data"
    },
    {
     "data": {
      "image/png": "[encoded data removed]",
      "text/plain": [
       "<Figure size 432x288 with 1 Axes>"
      ]
     },
     "metadata": {
      "needs_background": "light"
     },
     "output_type": "display_data"
    }
   ],
   "source": [
    "\n",
    "\n",
    "# ---------------------------------------------------------------------------------------------------------------------\n",
    "# ---------------------------------------------------------------------------------------------------------------------\n",
    "# TRAIN -> DEV Y TEST\n",
    "# ---------------------------------------------------------------------------------------------------------------------\n",
    "VALIDATION = True\n",
    "model, n_epochs = entrenar(VALIDATION, K, max_epochs, tam_batch, learning_rate, peso_score, num_users, num_pelis,\n",
    "                           dim_input_users, dim_input_pelis, X_train, X_train_dev, X_test, y_train, y_train_dev, y_test)\n",
    "\n"
   ]
  },
  {
   "cell_type": "code",
   "execution_count": 19,
   "id": "executed-beach",
   "metadata": {},
   "outputs": [
    {
     "name": "stdout",
     "output_type": "stream",
     "text": [
      "Epoch 1/24\n",
      "1759/1759 [==============================] - 2s 949us/step - loss: 6.3994 - mean_absolute_error: 2.1257 1s - loss: 1\n",
      "WARNING:tensorflow:FOR KERAS USERS: The object that you are saving contains one or more Keras models or layers. If you are loading the SavedModel with `tf.keras.models.load_model`, continue reading (otherwise, you may ignore the following instructions). Please change your code to save with `tf.keras.models.save_model` or `model.save`, and confirm that the file \"keras.metadata\" exists in the export directory. In the future, Keras will only load the SavedModels that have this file. In other words, `tf.saved_model.save` will no longer write SavedModels that can be recovered as Keras models (this will apply in TF 2.5).\n",
      "\n",
      "FOR DEVS: If you are overwriting _tracking_metadata in your class, this property has been used to save metadata in the SavedModel. The metadta field will be deprecated soon, so please move the metadata to a different file.\n",
      "INFO:tensorflow:Assets written to: model/model_history_generos_reales2_log.csv/assets\n",
      "Epoch 2/24\n",
      "   1/1759 [..............................] - ETA: 2s - loss: 2.4759 - mean_absolute_error: 1.3195"
     ]
    },
    {
     "name": "stderr",
     "output_type": "stream",
     "text": [
      "/Users/antonio/miniforge3/envs/doctor/lib/python3.8/site-packages/tensorflow/python/keras/engine/training.py:2325: UserWarning: `Model.state_updates` will be removed in a future version. This property should not be used in TensorFlow 2.0, as `updates` are applied automatically.\n",
      "  warnings.warn('`Model.state_updates` will be removed in a future version. '\n",
      "/Users/antonio/miniforge3/envs/doctor/lib/python3.8/site-packages/tensorflow/python/keras/engine/base_layer.py:1397: UserWarning: `layer.updates` will be removed in a future version. This property should not be used in TensorFlow 2.0, as `updates` are applied automatically.\n",
      "  warnings.warn('`layer.updates` will be removed in a future version. '\n"
     ]
    },
    {
     "name": "stdout",
     "output_type": "stream",
     "text": [
      "1759/1759 [==============================] - 2s 1ms/step - loss: 2.4081 - mean_absolute_error: 1.2660\n",
      "WARNING:tensorflow:FOR KERAS USERS: The object that you are saving contains one or more Keras models or layers. If you are loading the SavedModel with `tf.keras.models.load_model`, continue reading (otherwise, you may ignore the following instructions). Please change your code to save with `tf.keras.models.save_model` or `model.save`, and confirm that the file \"keras.metadata\" exists in the export directory. In the future, Keras will only load the SavedModels that have this file. In other words, `tf.saved_model.save` will no longer write SavedModels that can be recovered as Keras models (this will apply in TF 2.5).\n",
      "\n",
      "FOR DEVS: If you are overwriting _tracking_metadata in your class, this property has been used to save metadata in the SavedModel. The metadta field will be deprecated soon, so please move the metadata to a different file.\n",
      "INFO:tensorflow:Assets written to: model/model_history_generos_reales2_log.csv/assets\n",
      "Epoch 3/24\n",
      "1759/1759 [==============================] - 2s 1ms/step - loss: 2.3327 - mean_absolute_error: 1.2437\n",
      "WARNING:tensorflow:FOR KERAS USERS: The object that you are saving contains one or more Keras models or layers. If you are loading the SavedModel with `tf.keras.models.load_model`, continue reading (otherwise, you may ignore the following instructions). Please change your code to save with `tf.keras.models.save_model` or `model.save`, and confirm that the file \"keras.metadata\" exists in the export directory. In the future, Keras will only load the SavedModels that have this file. In other words, `tf.saved_model.save` will no longer write SavedModels that can be recovered as Keras models (this will apply in TF 2.5).\n",
      "\n",
      "FOR DEVS: If you are overwriting _tracking_metadata in your class, this property has been used to save metadata in the SavedModel. The metadta field will be deprecated soon, so please move the metadata to a different file.\n",
      "INFO:tensorflow:Assets written to: model/model_history_generos_reales2_log.csv/assets\n",
      "Epoch 4/24\n",
      "1759/1759 [==============================] - 2s 1ms/step - loss: 2.2675 - mean_absolute_error: 1.2245\n",
      "WARNING:tensorflow:FOR KERAS USERS: The object that you are saving contains one or more Keras models or layers. If you are loading the SavedModel with `tf.keras.models.load_model`, continue reading (otherwise, you may ignore the following instructions). Please change your code to save with `tf.keras.models.save_model` or `model.save`, and confirm that the file \"keras.metadata\" exists in the export directory. In the future, Keras will only load the SavedModels that have this file. In other words, `tf.saved_model.save` will no longer write SavedModels that can be recovered as Keras models (this will apply in TF 2.5).\n",
      "\n",
      "FOR DEVS: If you are overwriting _tracking_metadata in your class, this property has been used to save metadata in the SavedModel. The metadta field will be deprecated soon, so please move the metadata to a different file.\n",
      "INFO:tensorflow:Assets written to: model/model_history_generos_reales2_log.csv/assets\n",
      "Epoch 5/24\n",
      "1759/1759 [==============================] - 2s 1ms/step - loss: 2.2283 - mean_absolute_error: 1.2132\n",
      "WARNING:tensorflow:FOR KERAS USERS: The object that you are saving contains one or more Keras models or layers. If you are loading the SavedModel with `tf.keras.models.load_model`, continue reading (otherwise, you may ignore the following instructions). Please change your code to save with `tf.keras.models.save_model` or `model.save`, and confirm that the file \"keras.metadata\" exists in the export directory. In the future, Keras will only load the SavedModels that have this file. In other words, `tf.saved_model.save` will no longer write SavedModels that can be recovered as Keras models (this will apply in TF 2.5).\n",
      "\n",
      "FOR DEVS: If you are overwriting _tracking_metadata in your class, this property has been used to save metadata in the SavedModel. The metadta field will be deprecated soon, so please move the metadata to a different file.\n",
      "INFO:tensorflow:Assets written to: model/model_history_generos_reales2_log.csv/assets\n",
      "Epoch 6/24\n",
      "1759/1759 [==============================] - 2s 1ms/step - loss: 2.1974 - mean_absolute_error: 1.2036\n",
      "WARNING:tensorflow:FOR KERAS USERS: The object that you are saving contains one or more Keras models or layers. If you are loading the SavedModel with `tf.keras.models.load_model`, continue reading (otherwise, you may ignore the following instructions). Please change your code to save with `tf.keras.models.save_model` or `model.save`, and confirm that the file \"keras.metadata\" exists in the export directory. In the future, Keras will only load the SavedModels that have this file. In other words, `tf.saved_model.save` will no longer write SavedModels that can be recovered as Keras models (this will apply in TF 2.5).\n",
      "\n",
      "FOR DEVS: If you are overwriting _tracking_metadata in your class, this property has been used to save metadata in the SavedModel. The metadta field will be deprecated soon, so please move the metadata to a different file.\n",
      "INFO:tensorflow:Assets written to: model/model_history_generos_reales2_log.csv/assets\n",
      "Epoch 7/24\n",
      "1759/1759 [==============================] - 2s 1ms/step - loss: 2.1780 - mean_absolute_error: 1.1978\n",
      "WARNING:tensorflow:FOR KERAS USERS: The object that you are saving contains one or more Keras models or layers. If you are loading the SavedModel with `tf.keras.models.load_model`, continue reading (otherwise, you may ignore the following instructions). Please change your code to save with `tf.keras.models.save_model` or `model.save`, and confirm that the file \"keras.metadata\" exists in the export directory. In the future, Keras will only load the SavedModels that have this file. In other words, `tf.saved_model.save` will no longer write SavedModels that can be recovered as Keras models (this will apply in TF 2.5).\n",
      "\n",
      "FOR DEVS: If you are overwriting _tracking_metadata in your class, this property has been used to save metadata in the SavedModel. The metadta field will be deprecated soon, so please move the metadata to a different file.\n",
      "INFO:tensorflow:Assets written to: model/model_history_generos_reales2_log.csv/assets\n",
      "Epoch 8/24\n",
      "1759/1759 [==============================] - 2s 1ms/step - loss: 2.1585 - mean_absolute_error: 1.1917\n",
      "WARNING:tensorflow:FOR KERAS USERS: The object that you are saving contains one or more Keras models or layers. If you are loading the SavedModel with `tf.keras.models.load_model`, continue reading (otherwise, you may ignore the following instructions). Please change your code to save with `tf.keras.models.save_model` or `model.save`, and confirm that the file \"keras.metadata\" exists in the export directory. In the future, Keras will only load the SavedModels that have this file. In other words, `tf.saved_model.save` will no longer write SavedModels that can be recovered as Keras models (this will apply in TF 2.5).\n",
      "\n",
      "FOR DEVS: If you are overwriting _tracking_metadata in your class, this property has been used to save metadata in the SavedModel. The metadta field will be deprecated soon, so please move the metadata to a different file.\n",
      "INFO:tensorflow:Assets written to: model/model_history_generos_reales2_log.csv/assets\n",
      "Epoch 9/24\n",
      "1759/1759 [==============================] - 2s 1ms/step - loss: 2.1443 - mean_absolute_error: 1.1868\n",
      "WARNING:tensorflow:FOR KERAS USERS: The object that you are saving contains one or more Keras models or layers. If you are loading the SavedModel with `tf.keras.models.load_model`, continue reading (otherwise, you may ignore the following instructions). Please change your code to save with `tf.keras.models.save_model` or `model.save`, and confirm that the file \"keras.metadata\" exists in the export directory. In the future, Keras will only load the SavedModels that have this file. In other words, `tf.saved_model.save` will no longer write SavedModels that can be recovered as Keras models (this will apply in TF 2.5).\n",
      "\n",
      "FOR DEVS: If you are overwriting _tracking_metadata in your class, this property has been used to save metadata in the SavedModel. The metadta field will be deprecated soon, so please move the metadata to a different file.\n"
     ]
    },
    {
     "name": "stdout",
     "output_type": "stream",
     "text": [
      "INFO:tensorflow:Assets written to: model/model_history_generos_reales2_log.csv/assets\n",
      "Epoch 10/24\n",
      "1759/1759 [==============================] - 2s 1ms/step - loss: 2.1414 - mean_absolute_error: 1.1852\n",
      "WARNING:tensorflow:FOR KERAS USERS: The object that you are saving contains one or more Keras models or layers. If you are loading the SavedModel with `tf.keras.models.load_model`, continue reading (otherwise, you may ignore the following instructions). Please change your code to save with `tf.keras.models.save_model` or `model.save`, and confirm that the file \"keras.metadata\" exists in the export directory. In the future, Keras will only load the SavedModels that have this file. In other words, `tf.saved_model.save` will no longer write SavedModels that can be recovered as Keras models (this will apply in TF 2.5).\n",
      "\n",
      "FOR DEVS: If you are overwriting _tracking_metadata in your class, this property has been used to save metadata in the SavedModel. The metadta field will be deprecated soon, so please move the metadata to a different file.\n",
      "INFO:tensorflow:Assets written to: model/model_history_generos_reales2_log.csv/assets\n",
      "Epoch 11/24\n",
      "1759/1759 [==============================] - 2s 1ms/step - loss: 2.1271 - mean_absolute_error: 1.1805\n",
      "WARNING:tensorflow:FOR KERAS USERS: The object that you are saving contains one or more Keras models or layers. If you are loading the SavedModel with `tf.keras.models.load_model`, continue reading (otherwise, you may ignore the following instructions). Please change your code to save with `tf.keras.models.save_model` or `model.save`, and confirm that the file \"keras.metadata\" exists in the export directory. In the future, Keras will only load the SavedModels that have this file. In other words, `tf.saved_model.save` will no longer write SavedModels that can be recovered as Keras models (this will apply in TF 2.5).\n",
      "\n",
      "FOR DEVS: If you are overwriting _tracking_metadata in your class, this property has been used to save metadata in the SavedModel. The metadta field will be deprecated soon, so please move the metadata to a different file.\n",
      "INFO:tensorflow:Assets written to: model/model_history_generos_reales2_log.csv/assets\n",
      "Epoch 12/24\n",
      "1759/1759 [==============================] - 2s 1ms/step - loss: 2.1230 - mean_absolute_error: 1.1798\n",
      "WARNING:tensorflow:FOR KERAS USERS: The object that you are saving contains one or more Keras models or layers. If you are loading the SavedModel with `tf.keras.models.load_model`, continue reading (otherwise, you may ignore the following instructions). Please change your code to save with `tf.keras.models.save_model` or `model.save`, and confirm that the file \"keras.metadata\" exists in the export directory. In the future, Keras will only load the SavedModels that have this file. In other words, `tf.saved_model.save` will no longer write SavedModels that can be recovered as Keras models (this will apply in TF 2.5).\n",
      "\n",
      "FOR DEVS: If you are overwriting _tracking_metadata in your class, this property has been used to save metadata in the SavedModel. The metadta field will be deprecated soon, so please move the metadata to a different file.\n",
      "INFO:tensorflow:Assets written to: model/model_history_generos_reales2_log.csv/assets\n",
      "Epoch 13/24\n",
      "1759/1759 [==============================] - 2s 1ms/step - loss: 2.1234 - mean_absolute_error: 1.1790\n",
      "WARNING:tensorflow:FOR KERAS USERS: The object that you are saving contains one or more Keras models or layers. If you are loading the SavedModel with `tf.keras.models.load_model`, continue reading (otherwise, you may ignore the following instructions). Please change your code to save with `tf.keras.models.save_model` or `model.save`, and confirm that the file \"keras.metadata\" exists in the export directory. In the future, Keras will only load the SavedModels that have this file. In other words, `tf.saved_model.save` will no longer write SavedModels that can be recovered as Keras models (this will apply in TF 2.5).\n",
      "\n",
      "FOR DEVS: If you are overwriting _tracking_metadata in your class, this property has been used to save metadata in the SavedModel. The metadta field will be deprecated soon, so please move the metadata to a different file.\n",
      "INFO:tensorflow:Assets written to: model/model_history_generos_reales2_log.csv/assets\n",
      "Epoch 14/24\n",
      "1759/1759 [==============================] - 2s 1ms/step - loss: 2.1170 - mean_absolute_error: 1.1763\n",
      "WARNING:tensorflow:FOR KERAS USERS: The object that you are saving contains one or more Keras models or layers. If you are loading the SavedModel with `tf.keras.models.load_model`, continue reading (otherwise, you may ignore the following instructions). Please change your code to save with `tf.keras.models.save_model` or `model.save`, and confirm that the file \"keras.metadata\" exists in the export directory. In the future, Keras will only load the SavedModels that have this file. In other words, `tf.saved_model.save` will no longer write SavedModels that can be recovered as Keras models (this will apply in TF 2.5).\n",
      "\n",
      "FOR DEVS: If you are overwriting _tracking_metadata in your class, this property has been used to save metadata in the SavedModel. The metadta field will be deprecated soon, so please move the metadata to a different file.\n",
      "INFO:tensorflow:Assets written to: model/model_history_generos_reales2_log.csv/assets\n",
      "Epoch 15/24\n",
      "1759/1759 [==============================] - 2s 1ms/step - loss: 2.1099 - mean_absolute_error: 1.1747\n",
      "WARNING:tensorflow:FOR KERAS USERS: The object that you are saving contains one or more Keras models or layers. If you are loading the SavedModel with `tf.keras.models.load_model`, continue reading (otherwise, you may ignore the following instructions). Please change your code to save with `tf.keras.models.save_model` or `model.save`, and confirm that the file \"keras.metadata\" exists in the export directory. In the future, Keras will only load the SavedModels that have this file. In other words, `tf.saved_model.save` will no longer write SavedModels that can be recovered as Keras models (this will apply in TF 2.5).\n",
      "\n",
      "FOR DEVS: If you are overwriting _tracking_metadata in your class, this property has been used to save metadata in the SavedModel. The metadta field will be deprecated soon, so please move the metadata to a different file.\n",
      "INFO:tensorflow:Assets written to: model/model_history_generos_reales2_log.csv/assets\n",
      "Epoch 16/24\n",
      "1759/1759 [==============================] - 2s 1ms/step - loss: 2.1103 - mean_absolute_error: 1.1744\n",
      "WARNING:tensorflow:FOR KERAS USERS: The object that you are saving contains one or more Keras models or layers. If you are loading the SavedModel with `tf.keras.models.load_model`, continue reading (otherwise, you may ignore the following instructions). Please change your code to save with `tf.keras.models.save_model` or `model.save`, and confirm that the file \"keras.metadata\" exists in the export directory. In the future, Keras will only load the SavedModels that have this file. In other words, `tf.saved_model.save` will no longer write SavedModels that can be recovered as Keras models (this will apply in TF 2.5).\n",
      "\n",
      "FOR DEVS: If you are overwriting _tracking_metadata in your class, this property has been used to save metadata in the SavedModel. The metadta field will be deprecated soon, so please move the metadata to a different file.\n",
      "INFO:tensorflow:Assets written to: model/model_history_generos_reales2_log.csv/assets\n",
      "Epoch 17/24\n",
      "1759/1759 [==============================] - 2s 1ms/step - loss: 2.1116 - mean_absolute_error: 1.1745\n",
      "WARNING:tensorflow:FOR KERAS USERS: The object that you are saving contains one or more Keras models or layers. If you are loading the SavedModel with `tf.keras.models.load_model`, continue reading (otherwise, you may ignore the following instructions). Please change your code to save with `tf.keras.models.save_model` or `model.save`, and confirm that the file \"keras.metadata\" exists in the export directory. In the future, Keras will only load the SavedModels that have this file. In other words, `tf.saved_model.save` will no longer write SavedModels that can be recovered as Keras models (this will apply in TF 2.5).\n",
      "\n",
      "FOR DEVS: If you are overwriting _tracking_metadata in your class, this property has been used to save metadata in the SavedModel. The metadta field will be deprecated soon, so please move the metadata to a different file.\n"
     ]
    },
    {
     "name": "stdout",
     "output_type": "stream",
     "text": [
      "INFO:tensorflow:Assets written to: model/model_history_generos_reales2_log.csv/assets\n",
      "Epoch 18/24\n",
      "1759/1759 [==============================] - 2s 1ms/step - loss: 2.1055 - mean_absolute_error: 1.1725\n",
      "WARNING:tensorflow:FOR KERAS USERS: The object that you are saving contains one or more Keras models or layers. If you are loading the SavedModel with `tf.keras.models.load_model`, continue reading (otherwise, you may ignore the following instructions). Please change your code to save with `tf.keras.models.save_model` or `model.save`, and confirm that the file \"keras.metadata\" exists in the export directory. In the future, Keras will only load the SavedModels that have this file. In other words, `tf.saved_model.save` will no longer write SavedModels that can be recovered as Keras models (this will apply in TF 2.5).\n",
      "\n",
      "FOR DEVS: If you are overwriting _tracking_metadata in your class, this property has been used to save metadata in the SavedModel. The metadta field will be deprecated soon, so please move the metadata to a different file.\n",
      "INFO:tensorflow:Assets written to: model/model_history_generos_reales2_log.csv/assets\n",
      "Epoch 19/24\n",
      "1759/1759 [==============================] - 2s 1ms/step - loss: 2.1019 - mean_absolute_error: 1.1719\n",
      "WARNING:tensorflow:FOR KERAS USERS: The object that you are saving contains one or more Keras models or layers. If you are loading the SavedModel with `tf.keras.models.load_model`, continue reading (otherwise, you may ignore the following instructions). Please change your code to save with `tf.keras.models.save_model` or `model.save`, and confirm that the file \"keras.metadata\" exists in the export directory. In the future, Keras will only load the SavedModels that have this file. In other words, `tf.saved_model.save` will no longer write SavedModels that can be recovered as Keras models (this will apply in TF 2.5).\n",
      "\n",
      "FOR DEVS: If you are overwriting _tracking_metadata in your class, this property has been used to save metadata in the SavedModel. The metadta field will be deprecated soon, so please move the metadata to a different file.\n",
      "INFO:tensorflow:Assets written to: model/model_history_generos_reales2_log.csv/assets\n",
      "Epoch 20/24\n",
      "1759/1759 [==============================] - 2s 1ms/step - loss: 2.1040 - mean_absolute_error: 1.1716\n",
      "WARNING:tensorflow:FOR KERAS USERS: The object that you are saving contains one or more Keras models or layers. If you are loading the SavedModel with `tf.keras.models.load_model`, continue reading (otherwise, you may ignore the following instructions). Please change your code to save with `tf.keras.models.save_model` or `model.save`, and confirm that the file \"keras.metadata\" exists in the export directory. In the future, Keras will only load the SavedModels that have this file. In other words, `tf.saved_model.save` will no longer write SavedModels that can be recovered as Keras models (this will apply in TF 2.5).\n",
      "\n",
      "FOR DEVS: If you are overwriting _tracking_metadata in your class, this property has been used to save metadata in the SavedModel. The metadta field will be deprecated soon, so please move the metadata to a different file.\n",
      "INFO:tensorflow:Assets written to: model/model_history_generos_reales2_log.csv/assets\n",
      "Epoch 21/24\n",
      "1759/1759 [==============================] - 2s 1ms/step - loss: 2.1073 - mean_absolute_error: 1.1726\n",
      "WARNING:tensorflow:FOR KERAS USERS: The object that you are saving contains one or more Keras models or layers. If you are loading the SavedModel with `tf.keras.models.load_model`, continue reading (otherwise, you may ignore the following instructions). Please change your code to save with `tf.keras.models.save_model` or `model.save`, and confirm that the file \"keras.metadata\" exists in the export directory. In the future, Keras will only load the SavedModels that have this file. In other words, `tf.saved_model.save` will no longer write SavedModels that can be recovered as Keras models (this will apply in TF 2.5).\n",
      "\n",
      "FOR DEVS: If you are overwriting _tracking_metadata in your class, this property has been used to save metadata in the SavedModel. The metadta field will be deprecated soon, so please move the metadata to a different file.\n",
      "INFO:tensorflow:Assets written to: model/model_history_generos_reales2_log.csv/assets\n",
      "Epoch 22/24\n",
      "1759/1759 [==============================] - 2s 1ms/step - loss: 2.0968 - mean_absolute_error: 1.1695\n",
      "WARNING:tensorflow:FOR KERAS USERS: The object that you are saving contains one or more Keras models or layers. If you are loading the SavedModel with `tf.keras.models.load_model`, continue reading (otherwise, you may ignore the following instructions). Please change your code to save with `tf.keras.models.save_model` or `model.save`, and confirm that the file \"keras.metadata\" exists in the export directory. In the future, Keras will only load the SavedModels that have this file. In other words, `tf.saved_model.save` will no longer write SavedModels that can be recovered as Keras models (this will apply in TF 2.5).\n",
      "\n",
      "FOR DEVS: If you are overwriting _tracking_metadata in your class, this property has been used to save metadata in the SavedModel. The metadta field will be deprecated soon, so please move the metadata to a different file.\n",
      "INFO:tensorflow:Assets written to: model/model_history_generos_reales2_log.csv/assets\n",
      "Epoch 23/24\n",
      "1759/1759 [==============================] - 2s 1ms/step - loss: 2.0954 - mean_absolute_error: 1.1687\n",
      "WARNING:tensorflow:FOR KERAS USERS: The object that you are saving contains one or more Keras models or layers. If you are loading the SavedModel with `tf.keras.models.load_model`, continue reading (otherwise, you may ignore the following instructions). Please change your code to save with `tf.keras.models.save_model` or `model.save`, and confirm that the file \"keras.metadata\" exists in the export directory. In the future, Keras will only load the SavedModels that have this file. In other words, `tf.saved_model.save` will no longer write SavedModels that can be recovered as Keras models (this will apply in TF 2.5).\n",
      "\n",
      "FOR DEVS: If you are overwriting _tracking_metadata in your class, this property has been used to save metadata in the SavedModel. The metadta field will be deprecated soon, so please move the metadata to a different file.\n",
      "INFO:tensorflow:Assets written to: model/model_history_generos_reales2_log.csv/assets\n",
      "Epoch 24/24\n",
      "1759/1759 [==============================] - 2s 1ms/step - loss: 2.0991 - mean_absolute_error: 1.1696\n",
      "WARNING:tensorflow:FOR KERAS USERS: The object that you are saving contains one or more Keras models or layers. If you are loading the SavedModel with `tf.keras.models.load_model`, continue reading (otherwise, you may ignore the following instructions). Please change your code to save with `tf.keras.models.save_model` or `model.save`, and confirm that the file \"keras.metadata\" exists in the export directory. In the future, Keras will only load the SavedModels that have this file. In other words, `tf.saved_model.save` will no longer write SavedModels that can be recovered as Keras models (this will apply in TF 2.5).\n",
      "\n",
      "FOR DEVS: If you are overwriting _tracking_metadata in your class, this property has been used to save metadata in the SavedModel. The metadta field will be deprecated soon, so please move the metadata to a different file.\n",
      "INFO:tensorflow:Assets written to: model/model_history_generos_reales2_log.csv/assets\n",
      "3126/3126 [==============================] - 1s 299us/step - loss: 2.4554 - mean_absolute_error: 1.2680\n",
      "\t*-* Test                         loss: 2.4554\n",
      "\t*-* Test             MAE sobre scores: 1.2680\n",
      "Test MAE    modelo: 1.2680\n",
      "Test MAE Sys-Media: 0.9322\n"
     ]
    },
    {
     "data": {
      "image/png": "[encoded data removed]",
      "text/plain": [
       "<Figure size 432x288 with 1 Axes>"
      ]
     },
     "metadata": {
      "needs_background": "light"
     },
     "output_type": "display_data"
    },
    {
     "data": {
      "image/png": "[encoded data removed]",
      "text/plain": [
       "<Figure size 432x288 with 1 Axes>"
      ]
     },
     "metadata": {
      "needs_background": "light"
     },
     "output_type": "display_data"
    },
    {
     "name": "stdout",
     "output_type": "stream",
     "text": [
      "hiperparámetros: K=32, batch_size=512, learning_rate=0.001000, peso_score=0.50\n",
      "FIN\n"
     ]
    }
   ],
   "source": [
    "\n",
    "# ---------------------------------------------------------------------------------------------------------------------\n",
    "# ---------------------------------------------------------------------------------------------------------------------\n",
    "# TRAIN+DEV -> TEST\n",
    "# ---------------------------------------------------------------------------------------------------------------------\n",
    "VALIDATION = False\n",
    "model, prediction, usr_emb_genres = entrenar(VALIDATION, K, n_epochs, tam_batch, learning_rate, peso_score, num_users,\n",
    "                                        num_pelis, dim_input_users, dim_input_pelis,\n",
    "                                        X_train, X_train_dev, X_test, y_train, y_train_dev, y_test)\n",
    "\n",
    "\n",
    "# ---------------------------------------------------------------------------------------------------------------------\n",
    "# ---------------------------------------------------------------------------------------------------------------------\n",
    "# ---------------------------------------------------------------------------------------------------------------------\n",
    "\n",
    "print('hiperparámetros: K=%d, batch_size=%d, learning_rate=%f, peso_score=%.2f' % (K, tam_batch, learning_rate,\n",
    "                                                                                   peso_score))\n",
    "print(\"FIN\")"
   ]
  },
  {
   "cell_type": "code",
   "execution_count": null,
   "id": "married-treasurer",
   "metadata": {},
   "outputs": [],
   "source": []
  },
  {
   "cell_type": "code",
   "execution_count": null,
   "id": "suitable-conservation",
   "metadata": {},
   "outputs": [],
   "source": []
  }
 ],
 "metadata": {
  "kernelspec": {
   "display_name": "Python 3",
   "language": "python",
   "name": "python3"
  },
  "language_info": {
   "codemirror_mode": {
    "name": "ipython",
    "version": 3
   },
   "file_extension": ".py",
   "mimetype": "text/x-python",
   "name": "python",
   "nbconvert_exporter": "python",
   "pygments_lexer": "ipython3",
   "version": "3.8.6"
  },
  "varInspector": {
   "cols": {
    "lenName": 16,
    "lenType": 16,
    "lenVar": 40
   },
   "kernels_config": {
    "python": {
     "delete_cmd_postfix": "",
     "delete_cmd_prefix": "del ",
     "library": "var_list.py",
     "varRefreshCmd": "print(var_dic_list())"
    },
    "r": {
     "delete_cmd_postfix": ") ",
     "delete_cmd_prefix": "rm(",
     "library": "var_list.r",
     "varRefreshCmd": "cat(var_dic_list()) "
    }
   },
   "types_to_exclude": [
    "module",
    "function",
    "builtin_function_or_method",
    "instance",
    "_Feature"
   ],
   "window_display": false
  }
 },
 "nbformat": 4,
 "nbformat_minor": 5
}
